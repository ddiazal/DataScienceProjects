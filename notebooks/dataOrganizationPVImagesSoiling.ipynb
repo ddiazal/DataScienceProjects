{
 "cells": [
  {
   "cell_type": "code",
   "execution_count": 17,
   "metadata": {},
   "outputs": [
    {
     "name": "stdout",
     "output_type": "stream",
     "text": [
      "3.8.10 (v3.8.10:3d8993a744, May  3 2021, 09:09:08) \n",
      "[Clang 12.0.5 (clang-1205.0.22.9)]\n"
     ]
    }
   ],
   "source": [
    "import os\n",
    "import shutil\n",
    "import numpy as np\n",
    "\n",
    "print(os.sys.version)"
   ]
  },
  {
   "cell_type": "code",
   "execution_count": 27,
   "metadata": {},
   "outputs": [],
   "source": [
    "PATH = \"/Users/danieldiazalmeida/Downloads/Detect_solar_dust/\"\n",
    "files_clean_cat = \"Clean\"\n",
    "files_dirty_cat = \"Dusty\""
   ]
  },
  {
   "cell_type": "code",
   "execution_count": 32,
   "metadata": {},
   "outputs": [
    {
     "name": "stdout",
     "output_type": "stream",
     "text": [
      "Images in clean category 1493\n",
      "Images in dusty category 1069\n"
     ]
    }
   ],
   "source": [
    "clean_data_path = os.path.join(PATH, files_clean_cat)\n",
    "dirty_data_path = os.path.join(PATH, files_dirty_cat)\n",
    "\n",
    "clean_data_files = os.listdir(clean_data_path)\n",
    "dirty_data_files = os.listdir(dirty_data_path)\n",
    "\n",
    "nclean_data = len(clean_data_files)\n",
    "ndirty_data = len(dirty_data_files)\n",
    "\n",
    "print(\"Images in clean category {}\".format(nclean_data))\n",
    "print(f\"Images in dusty category {ndirty_data}\")"
   ]
  },
  {
   "cell_type": "code",
   "execution_count": 12,
   "metadata": {},
   "outputs": [],
   "source": [
    "def data_splitter(data_file_list:list, ndata:int=None, ratio:float=0.8\n",
    "                  ,rep:bool=False, train:bool=True, train_dat=None)->list:\n",
    "    \"\"\"_summary_\n",
    "\n",
    "    Args:\n",
    "        data_file_list (list): _description_\n",
    "        ndata (int, optional): _description_. Defaults to None.\n",
    "        ratio (float, optional): _description_. Defaults to 0.8.\n",
    "        rep (bool, optional): _description_. Defaults to False.\n",
    "        train (bool, optional): _description_. Defaults to True.\n",
    "        train_dat (_type_, optional): _description_. Defaults to None.\n",
    "\n",
    "    Returns:\n",
    "        list: _description_\n",
    "    \"\"\"\n",
    "    np.random.seed(42)\n",
    "    if train:\n",
    "        train_len = int(ndata*ratio)\n",
    "        data_train = np.random.choice(data_file_list, size=train_len, replace=False)\n",
    "        print(\"length train category {}\".format(len(data_train)))\n",
    "        return data_train\n",
    "    else:\n",
    "        test_clean_data = [file for file in data_file_list if file not in train_dat]\n",
    "        print(\"length test category {}\".format(len(test_clean_data)))\n",
    "\n",
    "        return test_clean_data"
   ]
  },
  {
   "cell_type": "code",
   "execution_count": 33,
   "metadata": {},
   "outputs": [
    {
     "name": "stdout",
     "output_type": "stream",
     "text": [
      "length train category 1194\n",
      "length train category 855\n",
      "length test category 299\n",
      "length test category 214\n"
     ]
    }
   ],
   "source": [
    "train_clean_data = data_splitter(ndata=nclean_data, data_file_list=clean_data_files)\n",
    "train_dirty_data = data_splitter(ndata=ndirty_data, data_file_list=dirty_data_files)\n",
    "\n",
    "test_clean_data = data_splitter(data_file_list=clean_data_files, train=False, train_dat=train_clean_data) \n",
    "test_dirty_data = data_splitter(data_file_list=dirty_data_files, train=False, train_dat=train_dirty_data) "
   ]
  },
  {
   "cell_type": "code",
   "execution_count": 25,
   "metadata": {},
   "outputs": [],
   "source": [
    "if not os.path.exists(path=\"CleanDustyPV\"):\n",
    "    os.mkdir(\"CleanDustyPV\")\n",
    "    os.mkdir(\"CleanDustyPV/train/clean\")\n",
    "    os.mkdir(\"CleanDustyPV/train/dusty\")\n",
    "    \n",
    "    os.mkdir(\"CleanDustyPV/test/clean\")\n",
    "    os.mkdir(\"CleanDustyPV/test/dusty\")\n",
    "    \n",
    "def file_mover(old_files:list, train:bool=True, _type:str=None):\n",
    "    if train:\n",
    "        new_destination = \"CleanDustyPV\"+'/'+\"train\"+'/'+_type\n",
    "        for file in old_files:\n",
    "            if _type==\"clean\":\n",
    "                shutil.move(clean_data_path+'/'+file, new_destination)\n",
    "            else:\n",
    "                shutil.move(dirty_data_path+'/'+file, new_destination)\n",
    "    else:\n",
    "        new_destination = \"CleanDustyPV\"+'/'+\"test\"+'/'+_type\n",
    "        for file in old_files:\n",
    "            if _type==\"clean\":\n",
    "                shutil.move(clean_data_path+'/'+file, new_destination)\n",
    "            else:\n",
    "                shutil.move(dirty_data_path+'/'+file, new_destination)"
   ]
  },
  {
   "cell_type": "code",
   "execution_count": null,
   "metadata": {},
   "outputs": [],
   "source": [
    "file_mover(old_files=train_clean_data, train=True, _type=\"clean\")\n",
    "file_mover(old_files=train_dirty_data, train=True, _type=\"dusty\")\n",
    "\n",
    "file_mover(old_files=test_clean_data, train=False, _type=\"clean\")\n",
    "file_mover(old_files=test_dirty_data, train=False, _type=\"dusty\")"
   ]
  }
 ],
 "metadata": {
  "kernelspec": {
   "display_name": "Python 3",
   "language": "python",
   "name": "python3"
  },
  "language_info": {
   "codemirror_mode": {
    "name": "ipython",
    "version": 3
   },
   "file_extension": ".py",
   "mimetype": "text/x-python",
   "name": "python",
   "nbconvert_exporter": "python",
   "pygments_lexer": "ipython3",
   "version": "3.8.10"
  },
  "orig_nbformat": 4
 },
 "nbformat": 4,
 "nbformat_minor": 2
}
